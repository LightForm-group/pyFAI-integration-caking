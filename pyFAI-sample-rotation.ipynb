{
 "cells": [
  {
   "cell_type": "markdown",
   "metadata": {},
   "source": [
    "# Testing rotation of detector to change cake position in pyFAI\n",
    "\n",
    "This notebook uses the test image found at: http://www.silx.org/pub/pyFAI/testimages/mock.tif\n",
    "This is clearly an unrealistic scattering image but provides a good way to\n",
    "show how different detector alignments affect the final data.\n",
    "\n",
    "We look at a workflow for caking scattering spectra using pyFAI and then reading this data into `xrdfit`."
   ]
  },
  {
   "cell_type": "code",
   "execution_count": null,
   "metadata": {},
   "outputs": [],
   "source": [
    "import fabio\n",
    "import xrdfit\n",
    "from pyFAI.gui import jupyter\n",
    "import pyFAI.detectors, pyFAI.azimuthalIntegrator\n",
    "import math\n",
    "import numpy as np\n",
    "from xrdfit.spectrum_fitting import FitSpectrum"
   ]
  },
  {
   "cell_type": "markdown",
   "metadata": {},
   "source": [
    "Load test image from file"
   ]
  },
  {
   "cell_type": "code",
   "execution_count": null,
   "metadata": {},
   "outputs": [],
   "source": [
    "img = fabio.open(r\"data/moke.tif\").data\n",
    "jupyter.display(img, label =\"Fake diffraction image\")"
   ]
  },
  {
   "cell_type": "markdown",
   "metadata": {},
   "source": [
    "Set up mock detector *- normally you would load a calibration here.*\n",
    "The parameters are those given with the sample image."
   ]
  },
  {
   "cell_type": "code",
   "execution_count": null,
   "metadata": {},
   "outputs": [],
   "source": [
    "detector = pyFAI.detectors.Detector(pixel1=1e-4, pixel2=1e-4)\n",
    "ai = pyFAI.azimuthalIntegrator.AzimuthalIntegrator(dist=0.1, detector=detector)\n",
    "# Center the detector on the center of the pattern at 300, 300.\n",
    "ai.setFit2D(100, 300, 300)"
   ]
  },
  {
   "cell_type": "markdown",
   "metadata": {},
   "source": [
    "Now rotate the detector. `rot3` is the angle to rotate the detector in the axis of the imaging beam.\n",
    "See [here](https://pyfai.readthedocs.io/en/latest/usage/tutorial/Geometry/geometry.html#Conclusion) for a\n",
    "schematic of the detector and rotations.\n",
    "\n",
    "The minimum cake angle in pyFAI is -180${^\\circ}$, and so caking will slice along the horizontal,\n",
    "rather than being centred on the horizontal. We can centre the cake on the horizontal (and vertical)\n",
    "by applying a rotation to the detector.\n",
    "\n",
    "*Note, with 36 cakes and 100 slices the resolution is poor but xrdfit plotting is fast.\n",
    "With 360 cakes and 1000 slices it is easier to see image reconstructed from the cakes but\n",
    "xrdfit plotting is slow. This appears to be a limitation of the radial plotting in matplotlib.*\n",
    "\n",
    "You can alter the number of cakes, radial slices and detector rotation here to see how it affects the\n",
    "caked data."
   ]
  },
  {
   "cell_type": "code",
   "execution_count": null,
   "metadata": {},
   "outputs": [],
   "source": [
    "num_cakes = 36\n",
    "num_radial_slices = 1000\n",
    "\n",
    "# Rotate the detector so that the cardinal direction is in the center of the first cake.\n",
    "cake_angle = 360 / num_cakes\n",
    "ai.rot3 = (cake_angle / 2) * (math.pi / 180) # convert rotation to radians"
   ]
  },
  {
   "cell_type": "markdown",
   "metadata": {},
   "source": [
    "Display the caked image in a flat 2D perspective."
   ]
  },
  {
   "cell_type": "code",
   "execution_count": null,
   "metadata": {},
   "outputs": [],
   "source": [
    "res2d = ai.integrate2d(img, num_radial_slices, num_cakes, unit=\"2th_deg\")\n",
    "jupyter.plot2d(res2d, label=\"moke\")"
   ]
  },
  {
   "cell_type": "markdown",
   "metadata": {},
   "source": [
    "pyFAI cakes the data anticlockwise (from -180${^\\circ}$ to 0${^\\circ}$ to +180${^\\circ}$) which is the\n",
    "opposite direction to DAWN. pyFAI also starts caking the data from the `West` (-180${^\\circ}$) direction\n",
    "(compared to DAWN which starts caking from the East direction) so the angle of the first cake is\n",
    "270 degrees clockwise of the North direction.\n",
    "\n",
    "To replicate a DAWN caked output the order of the cakes in the intensity variable need to be flipped.\n",
    "\n",
    "By default, `np.savetxt` uses a space as a column delimiter. `xrdfit` defaults to tab spacing but\n",
    "this can be changed using the `delimiter` argument.\n",
    "\n",
    "We can pyFAI to reproduce the equivalent output of DAWN as:"
   ]
  },
  {
   "cell_type": "code",
   "execution_count": null,
   "metadata": {
    "scrolled": true
   },
   "outputs": [],
   "source": [
    "# Flip the intensity data to order cakes clockwise rather than anticlockwise\n",
    "intensity = np.flip(res2d.intensity.T, axis=1)\n",
    "\n",
    "# Reshape radial labels to 2D array so they can be attached to the intensity data.\n",
    "radial = np.reshape(res2d.radial, (-1, 1))\n",
    "\n",
    "result = np.hstack((radial, intensity))\n",
    "np.savetxt(\"example_caked_spectrum.txt\", result)\n",
    "spectrum = xrdfit.spectrum_fitting.FitSpectrum(\"example_caked_spectrum.txt\", first_cake_angle=270, delimiter=\" \")\n",
    "spectrum.plot_polar()"
   ]
  },
  {
   "cell_type": "markdown",
   "metadata": {},
   "source": [
    "*Note, the color change between images is not important - it is that `xrdfit` is using a just a different matplotlib\n",
    "colormap to the `jupyter.plot2d` function.*\n",
    "\n",
    "An alternative to flipping the data is to use the new anticlockwise fit option of `xrdfit`.\n",
    "This is particularly useful for users who have already gone through the process of caking their data using\n",
    "pyFAI and would like to load it into xrdfit.\n",
    "\n",
    "*Note, that if the data is read anticlockwise then the `first_cake_angle` has to be displaced by one cake width\n",
    "as we are plotting data the other way.*"
   ]
  },
  {
   "cell_type": "code",
   "execution_count": null,
   "metadata": {},
   "outputs": [],
   "source": [
    "# Just transpose rows/columns, dont flip.\n",
    "intensity = res2d.intensity.T\n",
    "\n",
    "# Reshape radial labels to 2D array so they can be attached to the intensity data.\n",
    "radial = np.reshape(res2d.radial, (-1, 1))\n",
    "\n",
    "result = np.hstack((radial, intensity))\n",
    "np.savetxt(\"example_caked_spectrum.txt\", result)\n",
    "spectrum = xrdfit.spectrum_fitting.FitSpectrum(\"example_caked_spectrum.txt\", first_cake_angle=270-cake_angle, delimiter=\" \", cake_order=\"anticlockwise\")\n",
    "spectrum.plot_polar()"
   ]
  },
  {
   "cell_type": "code",
   "execution_count": null,
   "metadata": {},
   "outputs": [],
   "source": []
  }
 ],
 "metadata": {
  "kernelspec": {
   "display_name": "Python 3",
   "language": "python",
   "name": "python3"
  },
  "language_info": {
   "codemirror_mode": {
    "name": "ipython",
    "version": 3
   },
   "file_extension": ".py",
   "mimetype": "text/x-python",
   "name": "python",
   "nbconvert_exporter": "python",
   "pygments_lexer": "ipython3",
   "version": "3.6.8"
  }
 },
 "nbformat": 4,
 "nbformat_minor": 4
}
