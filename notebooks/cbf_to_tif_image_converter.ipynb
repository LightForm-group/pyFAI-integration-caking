{
 "cells": [
  {
   "cell_type": "markdown",
   "id": "7ff60ee0",
   "metadata": {},
   "source": [
    "The workbook converts .cbf diffraction pattern images into .tif format.\n",
    "\n",
    "The conversion is done using the `fromarray` function in the Python Imaging Library (PIL)."
   ]
  },
  {
   "cell_type": "code",
   "execution_count": null,
   "id": "249d1d0b",
   "metadata": {},
   "outputs": [],
   "source": [
    "import matplotlib.pyplot as plt\n",
    "import numpy as np\n",
    "import pyFAI.gui.jupyter\n",
    "import pyFAI\n",
    "import fabio\n",
    "from pyFAI.test.utilstest import UtilsTest\n",
    "from pyFAI.calibrant import CALIBRANT_FACTORY\n",
    "from pyFAI.goniometer import SingleGeometry\n",
    "import pathlib\n",
    "from tqdm import tqdm\n",
    "import logging\n",
    "import math\n",
    "import warnings\n",
    "import os\n",
    "import pyFAI.azimuthalIntegrator\n",
    "from pyFAI.gui import jupyter\n",
    "import yaml\n",
    "from PIL import Image\n",
    "\n",
    "import pyFAI_analysis_functions as analysis\n",
    "%load_ext autoreload\n",
    "%autoreload 2\n",
    "\n",
    "from typing import Tuple\n",
    "from typing import List\n",
    "    \n",
    "figure_size = 10"
   ]
  },
  {
   "cell_type": "markdown",
   "id": "fa640a5a",
   "metadata": {},
   "source": [
    "The file paths and user inputs for the analysis of the Diamond 2017, 2021, 2022  and DESY 2020, 2021 experiments are included in the `yaml` configuration files, to record the inputs of the analysis.\n",
    "\n",
    "The information in the `yaml` file can be accessed like this."
   ]
  },
  {
   "cell_type": "code",
   "execution_count": null,
   "id": "24010de5",
   "metadata": {},
   "outputs": [],
   "source": [
    "# to load the Diamond 2022 analysis\n",
    "config_path = \"yaml/config_diamond_2022_slow_acquisition.yaml\"\n",
    "config = analysis.get_config(config_path)"
   ]
  },
  {
   "cell_type": "code",
   "execution_count": null,
   "id": "61a28cfe",
   "metadata": {},
   "outputs": [],
   "source": [
    "input_path = config[\"file_paths\"][\"input_path\"]\n",
    "print(\"The input path is: \", input_path)\n",
    "\n",
    "input_experiment_list = config[\"file_paths\"][\"input_experiment_list\"]\n",
    "print(\"The input experiment list (name of the input folders) is :\", input_experiment_list)\n",
    "\n",
    "glob_search_term = config[\"file_paths\"][\"glob_search_term\"]\n",
    "print(\"The glob search term (common name of the image files) is :\", glob_search_term)\n",
    "\n",
    "output_path = config[\"file_paths\"][\"output_path\"]\n",
    "print(\"The output path is: \", output_path)\n",
    "\n",
    "output_experiment_list = config[\"file_paths\"][\"output_experiment_list\"]\n",
    "print(\"The output experiment list (name of the output folders) is :\", input_experiment_list)"
   ]
  },
  {
   "cell_type": "markdown",
   "id": "4cb6a261",
   "metadata": {},
   "source": [
    "The `cbf_to_tiff_iteration` function is used to convert .cbf images to .tif format for all images defined in the yaml confguration file."
   ]
  },
  {
   "cell_type": "code",
   "execution_count": null,
   "id": "d4c0a71d",
   "metadata": {},
   "outputs": [],
   "source": [
    "analysis.cbf_to_tiff_iteration(input_path, input_experiment_list, glob_search_term,\n",
    "                               output_path, output_experiment_list)"
   ]
  },
  {
   "cell_type": "code",
   "execution_count": null,
   "id": "7f3b0781",
   "metadata": {},
   "outputs": [],
   "source": []
  }
 ],
 "metadata": {
  "kernelspec": {
   "display_name": "Python 3 (ipykernel)",
   "language": "python",
   "name": "python3"
  },
  "language_info": {
   "codemirror_mode": {
    "name": "ipython",
    "version": 3
   },
   "file_extension": ".py",
   "mimetype": "text/x-python",
   "name": "python",
   "nbconvert_exporter": "python",
   "pygments_lexer": "ipython3",
   "version": "3.7.3"
  }
 },
 "nbformat": 4,
 "nbformat_minor": 5
}
