{
 "cells": [
  {
   "cell_type": "markdown",
   "metadata": {},
   "source": [
    "## Create a calibration using pyFAI"
   ]
  },
  {
   "cell_type": "code",
   "execution_count": null,
   "metadata": {},
   "outputs": [],
   "source": [
    "import matplotlib.pyplot as plt\n",
    "import numpy as np\n",
    "import pyFAI.gui.jupyter\n",
    "import pyFAI\n",
    "import fabio\n",
    "from pyFAI.test.utilstest import UtilsTest\n",
    "from pyFAI.calibrant import CALIBRANT_FACTORY\n",
    "from pyFAI.goniometer import SingleGeometry\n",
    "import pathlib\n",
    "from tqdm import tqdm\n",
    "import logging\n",
    "import math\n",
    "import warnings\n",
    "import os\n",
    "import pyFAI.azimuthalIntegrator\n",
    "from pyFAI.gui import jupyter\n",
    "import yaml\n",
    "\n",
    "import pyFAI_analysis_functions as analysis\n",
    "%load_ext autoreload\n",
    "%autoreload 2\n",
    "\n",
    "from typing import Tuple\n",
    "from typing import List\n",
    "\n",
    "figure_size = 10"
   ]
  },
  {
   "cell_type": "markdown",
   "metadata": {},
   "source": [
    "## Load YAML file"
   ]
  },
  {
   "cell_type": "markdown",
   "metadata": {},
   "source": [
    "The file paths and user inputs for the analysis of the Diamond 2017, Diamond 2021 and DESY 2021 experiments are included in the `yaml` configuration files, to record the inputs of the analysis.\n",
    "\n",
    "The information in the `yaml` file can be accessed like this."
   ]
  },
  {
   "cell_type": "code",
   "execution_count": null,
   "metadata": {},
   "outputs": [],
   "source": [
    "# to load the Diamond 2017 analysis\n",
    "config_path = \"yaml/config_diamond_2017.yaml\"\n",
    "config = analysis.get_config(config_path)"
   ]
  },
  {
   "cell_type": "code",
   "execution_count": null,
   "metadata": {},
   "outputs": [],
   "source": [
    "# to load the Diamond 2021 analysis at ~740mm\n",
    "config_path = \"yaml/config_diamond_2021_740mm.yaml\"\n",
    "config = analysis.get_config(config_path)"
   ]
  },
  {
   "cell_type": "code",
   "execution_count": null,
   "metadata": {},
   "outputs": [],
   "source": [
    "# to load the Diamond 2021 analysis at ~910mm\n",
    "config_path = \"yaml/config_diamond_2021_910mm.yaml\"\n",
    "config = analysis.get_config(config_path)"
   ]
  },
  {
   "cell_type": "code",
   "execution_count": null,
   "metadata": {},
   "outputs": [],
   "source": [
    "# to load the DESY 2021 analysis\n",
    "config_path = \"yaml/config_desy_2021.yaml\"\n",
    "config = analysis.get_config(config_path)"
   ]
  },
  {
   "cell_type": "markdown",
   "metadata": {},
   "source": [
    "## Calibrate the detector"
   ]
  },
  {
   "cell_type": "markdown",
   "metadata": {},
   "source": [
    "Define geometry components such as beam centre and detector distance."
   ]
  },
  {
   "cell_type": "code",
   "execution_count": null,
   "metadata": {},
   "outputs": [],
   "source": [
    "input_calibrant_file = config[\"file_paths\"][\"input_calibrant_file\"]\n",
    "print(\"The input file path for the calibrant diffraction pattern image is:\", input_calibrant_file)\n",
    "output_calibration_path = config[\"file_paths\"][\"output_calibration_path\"]\n",
    "print(\"The output file path for the .poni calibration file is: \", output_calibration_path)\n",
    "\n",
    "beam_centre_x = config[\"setup_inputs\"][\"beam_centre_x\"]\n",
    "print(\"The x-coordinate of the beam-centre in pixels is \", beam_centre_x)\n",
    "beam_centre_y = config[\"setup_inputs\"][\"beam_centre_y\"] \n",
    "print(\"The y-coordinate of the beam-centre in pixels is \", beam_centre_y)\n",
    "\n",
    "sample_detector_distance = config[\"setup_inputs\"][\"sample_detector_distance\"] \n",
    "print(\"The sample-to-detector distance in millimetres (unit used by Fit2d) is: \", sample_detector_distance)\n",
    "\n",
    "wl = config[\"setup_inputs\"][\"wl\"] \n",
    "print(\"The beam wavelength in metres is: \", wl)\n",
    "\n",
    "pixel_x = config[\"setup_inputs\"][\"pixel_x\"] \n",
    "print(\"The pixel size in metres (in x) is: \", pixel_x)\n",
    "pixel_y = config[\"setup_inputs\"][\"pixel_y\"]\n",
    "print(\"The pixel size in metres (in y) is: \", pixel_y) \n",
    "\n",
    "calibrant_type = config[\"setup_inputs\"][\"calibrant_type\"] \n",
    "print(\"The calibrant type is: \", calibrant_type)\n",
    "\n",
    "num_calibration_rings = config[\"setup_inputs\"][\"num_calibration_rings\"]\n",
    "print(\"The number of calibrant rings used for calibration is: \", num_calibration_rings)"
   ]
  },
  {
   "cell_type": "code",
   "execution_count": null,
   "metadata": {},
   "outputs": [],
   "source": [
    "analysis.calibrate(input_calibrant_file, beam_centre_x, beam_centre_y, sample_detector_distance, wl, pixel_x, pixel_y, \n",
    "          calibrant_type, num_calibration_rings, output_calibration_path, figure_size)"
   ]
  },
  {
   "cell_type": "markdown",
   "metadata": {},
   "source": [
    "# Load calibration"
   ]
  },
  {
   "cell_type": "code",
   "execution_count": null,
   "metadata": {
    "scrolled": true
   },
   "outputs": [],
   "source": [
    "ai = pyFAI.load(output_calibration_path)\n",
    "print(\"\\nIntegrator: \\n\", ai)"
   ]
  },
  {
   "cell_type": "markdown",
   "metadata": {},
   "source": [
    "## Create mask"
   ]
  },
  {
   "cell_type": "code",
   "execution_count": null,
   "metadata": {},
   "outputs": [],
   "source": [
    "input_calibrant_file = config[\"file_paths\"][\"input_calibrant_file\"]\n",
    "print(\"The input file path for the calibrant diffraction pattern image is:\", input_calibrant_file)\n",
    "\n",
    "image = fabio.open(input_calibrant_file)\n",
    "pattern_image_array = image.data\n",
    "print(\"pattern_image_array:\", type(pattern_image_array), pattern_image_array.shape, pattern_image_array.dtype)\n",
    "jupyter.display(pattern_image_array)\n",
    "\n",
    "mask = pattern_image_array < 0\n",
    "print(\"mask:\", type(mask), mask.shape, mask.dtype)\n",
    "print(\"percent of bad pixels : \", 100*mask.sum()/(mask.shape[0]*mask.shape[1]))\n",
    "jupyter.display(mask)"
   ]
  },
  {
   "cell_type": "markdown",
   "metadata": {},
   "source": [
    "# Azimuthal integration of multiple images for `TOPAS`"
   ]
  },
  {
   "cell_type": "code",
   "execution_count": null,
   "metadata": {},
   "outputs": [],
   "source": [
    "input_path = config[\"file_paths\"][\"input_path\"]\n",
    "print(\"The input path is: \", input_path)\n",
    "\n",
    "input_experiment_list = config[\"file_paths\"][\"input_experiment_list\"]\n",
    "print(\"The input experiment list (name of the input folders) is :\", input_experiment_list)\n",
    "\n",
    "glob_search_term = config[\"file_paths\"][\"glob_search_term\"]\n",
    "print(\"The glob search term (common name of the image files) is :\", glob_search_term)\n",
    "\n",
    "output_path = config[\"file_paths\"][\"output_path\"]\n",
    "print(\"The output path is: \", output_path)\n",
    "\n",
    "output_experiment_list = config[\"file_paths\"][\"output_experiment_list\"]\n",
    "print(\"The output experiment list (name of the output folders) is :\", input_experiment_list)\n",
    "\n",
    "number_of_points = config[\"refinement_inputs\"][\"number_of_points\"]\n",
    "print(\"The number of points to resolve the intensity profile is :\", number_of_points)"
   ]
  },
  {
   "cell_type": "code",
   "execution_count": null,
   "metadata": {},
   "outputs": [],
   "source": [
    "analysis.azimuthal_integration_iteration(input_path, input_experiment_list, glob_search_term, output_path, \n",
    "                                         output_experiment_list, ai, mask, number_of_points)"
   ]
  },
  {
   "cell_type": "markdown",
   "metadata": {},
   "source": [
    "# Caking multiple images for `xrdfit`"
   ]
  },
  {
   "cell_type": "code",
   "execution_count": null,
   "metadata": {},
   "outputs": [],
   "source": [
    "input_path = config[\"file_paths\"][\"input_path\"]\n",
    "print(\"The input path is: \", input_path)\n",
    "\n",
    "input_experiment_list = config[\"file_paths\"][\"input_experiment_list\"]\n",
    "print(\"The input experiment list (name of the input folders) is :\", input_experiment_list)\n",
    "\n",
    "glob_search_term = config[\"file_paths\"][\"glob_search_term\"]\n",
    "print(\"The glob search term (common name of the image files) is :\", glob_search_term)\n",
    "\n",
    "output_path = config[\"file_paths\"][\"output_path\"]\n",
    "print(\"The output path is: \", output_path)\n",
    "\n",
    "output_experiment_list = config[\"file_paths\"][\"output_experiment_list\"]\n",
    "print(\"The output experiment list (name of the output folders) is :\", input_experiment_list)\n",
    "\n",
    "number_of_points = config[\"refinement_inputs\"][\"number_of_points\"]\n",
    "print(\"The number of points to resolve the intensity profile is :\", number_of_points)\n",
    "\n",
    "number_of_cakes = config[\"refinement_inputs\"][\"number_of_cakes\"]\n",
    "print(\"The number of cakes for 'caking' the synchrotron diffraction pattern images is: \", number_of_cakes, \" giving a cake width of \", 360/number_of_cakes, \" degrees\")"
   ]
  },
  {
   "cell_type": "code",
   "execution_count": null,
   "metadata": {},
   "outputs": [],
   "source": [
    "analysis.caking_iteration_xrdfit(input_path, input_experiment_list, glob_search_term, output_path, output_experiment_list, \n",
    "                        ai, mask, number_of_points, number_of_cakes)"
   ]
  },
  {
   "cell_type": "markdown",
   "metadata": {},
   "source": [
    "## Caking multiple images for `MAUD`"
   ]
  },
  {
   "cell_type": "code",
   "execution_count": null,
   "metadata": {},
   "outputs": [],
   "source": [
    "input_path = config[\"file_paths\"][\"input_path\"]\n",
    "print(\"The input path is: \", input_path)\n",
    "\n",
    "input_experiment_list = config[\"file_paths\"][\"input_experiment_list\"]\n",
    "print(\"The input experiment list (name of the input folders) is :\", input_experiment_list)\n",
    "\n",
    "glob_search_term = config[\"file_paths\"][\"glob_search_term\"]\n",
    "print(\"The glob search term (common name of the image files) is :\", glob_search_term)\n",
    "\n",
    "output_path = config[\"file_paths\"][\"output_path\"]\n",
    "print(\"The output path is: \", output_path)\n",
    "\n",
    "output_experiment_list = config[\"file_paths\"][\"output_experiment_list\"]\n",
    "print(\"The output experiment list (name of the output folders) is :\", input_experiment_list)\n",
    "\n",
    "number_of_points = config[\"refinement_inputs\"][\"number_of_points\"]\n",
    "print(\"The number of points to resolve the intensity profile is :\", number_of_points)\n",
    "\n",
    "number_of_cakes = config[\"refinement_inputs\"][\"number_of_cakes\"]\n",
    "print(\"The number of cakes for 'caking' the synchrotron diffraction pattern images is: \", number_of_cakes, \" giving a cake width of \", 360/number_of_cakes, \" degrees\")\n",
    "\n",
    "pixel_size = config[\"refinement_inputs\"][\"pixel_size\"]\n",
    "print(\"The pixel size in millimetres is: \", pixel_size) "
   ]
  },
  {
   "cell_type": "code",
   "execution_count": null,
   "metadata": {},
   "outputs": [],
   "source": [
    "analysis.caking_iteration_maud(input_path, input_experiment_list, glob_search_term, output_path, \n",
    "                               output_experiment_list, ai, mask, pixel_size, number_of_points, number_of_cakes)"
   ]
  }
 ],
 "metadata": {
  "kernelspec": {
   "display_name": "Python 3 (ipykernel)",
   "language": "python",
   "name": "python3"
  },
  "language_info": {
   "codemirror_mode": {
    "name": "ipython",
    "version": 3
   },
   "file_extension": ".py",
   "mimetype": "text/x-python",
   "name": "python",
   "nbconvert_exporter": "python",
   "pygments_lexer": "ipython3",
   "version": "3.7.3"
  }
 },
 "nbformat": 4,
 "nbformat_minor": 4
}
