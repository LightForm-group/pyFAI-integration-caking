{
 "cells": [
  {
   "cell_type": "markdown",
   "metadata": {},
   "source": [
    "## Create a calibration using pyFAI"
   ]
  },
  {
   "cell_type": "code",
   "execution_count": null,
   "metadata": {},
   "outputs": [],
   "source": [
    "import matplotlib.pyplot as plt\n",
    "import numpy as np\n",
    "import pyFAI.gui.jupyter\n",
    "import pyFAI\n",
    "import fabio\n",
    "from pyFAI.test.utilstest import UtilsTest\n",
    "from pyFAI.calibrant import CALIBRANT_FACTORY\n",
    "from pyFAI.goniometer import SingleGeometry\n",
    "import pathlib\n",
    "from tqdm import tqdm\n",
    "import logging\n",
    "import math\n",
    "import warnings\n",
    "import pyFAI.azimuthalIntegrator\n",
    "from pyFAI.gui import jupyter\n",
    "figure_size = 10"
   ]
  },
  {
   "cell_type": "markdown",
   "metadata": {},
   "source": [
    "Load and show the calibration image"
   ]
  },
  {
   "cell_type": "code",
   "execution_count": null,
   "metadata": {},
   "outputs": [],
   "source": [
    "filename = \"../calibration/DLS_CeO2_1200mm.tif\"\n",
    "frame = fabio.open(filename).data\n",
    "figure = plt.figure(figsize=(figure_size, figure_size))\n",
    "ax = plt.gca()\n",
    "pyFAI.gui.jupyter.display(frame, ax=ax)"
   ]
  },
  {
   "cell_type": "markdown",
   "metadata": {},
   "source": [
    "Define geometry components such as beam center and detector distance."
   ]
  },
  {
   "cell_type": "code",
   "execution_count": null,
   "metadata": {},
   "outputs": [],
   "source": [
    "x = 712.136 # x-coordinate of the beam-center in pixels\n",
    "y = 727.864 # y-coordinate of the beam-center in pixels\n",
    "d = 1194.046 # This is the distance in mm (unit used by Fit2d)\n",
    "wl = 1.393000e-11 # Beam wavelength"
   ]
  },
  {
   "cell_type": "markdown",
   "metadata": {},
   "source": [
    "Definition of the detector and of the calibrant"
   ]
  },
  {
   "cell_type": "code",
   "execution_count": null,
   "metadata": {},
   "outputs": [],
   "source": [
    "detector = pyFAI.detectors.Detector(pixel1=0.000296, pixel2=0.000296)\n",
    "print(detector)\n",
    "calibrant = CALIBRANT_FACTORY(\"CeO2\")\n",
    "calibrant.wavelength = wl\n",
    "calibrant"
   ]
  },
  {
   "cell_type": "markdown",
   "metadata": {},
   "source": [
    "Set the geometry of the detector to be the guessed geometry"
   ]
  },
  {
   "cell_type": "code",
   "execution_count": null,
   "metadata": {},
   "outputs": [],
   "source": [
    "initial_geometry = pyFAI.geometry.Geometry(detector=detector, wavelength=wl)\n",
    "initial_geometry.setFit2D(d, x, y)\n",
    "initial_geometry"
   ]
  },
  {
   "cell_type": "markdown",
   "metadata": {},
   "source": [
    "We now use the SingleGeometry object to perform automatic ring extraction and calibration"
   ]
  },
  {
   "cell_type": "code",
   "execution_count": null,
   "metadata": {},
   "outputs": [],
   "source": [
    "sg = SingleGeometry(\"demo\", frame, calibrant=calibrant, detector=detector, geometry=initial_geometry)\n",
    "sg.extract_cp(max_rings=16)"
   ]
  },
  {
   "cell_type": "markdown",
   "metadata": {},
   "source": [
    "This figure shows that the fitted control points and rings overlap pretty well. Refinement probably won't change much."
   ]
  },
  {
   "cell_type": "code",
   "execution_count": null,
   "metadata": {},
   "outputs": [],
   "source": [
    "figure = plt.figure(figsize=(figure_size, figure_size))\n",
    "ax = plt.gca()\n",
    "pyFAI.gui.jupyter.display(sg=sg, ax=ax)"
   ]
  },
  {
   "cell_type": "markdown",
   "metadata": {},
   "source": [
    "We refine the geometry, we leave the wavelength fixed as we know this but allow the other parameters to change. This accounts for any slight inaccuracy in the detector set up."
   ]
  },
  {
   "cell_type": "code",
   "execution_count": null,
   "metadata": {
    "scrolled": true
   },
   "outputs": [],
   "source": [
    "sg.geometry_refinement.refine2(fix=[\"wavelength\"])"
   ]
  },
  {
   "cell_type": "markdown",
   "metadata": {},
   "source": [
    "This figure shows the result of the refinement."
   ]
  },
  {
   "cell_type": "code",
   "execution_count": null,
   "metadata": {},
   "outputs": [],
   "source": [
    "figure = plt.figure(figsize=(figure_size, figure_size))\n",
    "ax = plt.gca()\n",
    "pyFAI.gui.jupyter.display(sg=sg, ax=ax)"
   ]
  },
  {
   "cell_type": "markdown",
   "metadata": {},
   "source": [
    "We can now save the refinement to a file to be used later"
   ]
  },
  {
   "cell_type": "code",
   "execution_count": null,
   "metadata": {},
   "outputs": [],
   "source": [
    "# Delete the calibration if it already exists\n",
    "calibration_path = \"../calibration/DLS_CeO2_1200mm_pyFAI.poni\"\n",
    "# pathlib.Path(calibration_path).unlink(missing_ok=True) # only works for 3.8+\n",
    "try:\n",
    "    pathlib.Path(calibration_path).unlink()\n",
    "except FileNotFoundError:\n",
    "    pass\n",
    "\n",
    "#Save the geometry obtained\n",
    "sg.geometry_refinement.save(calibration_path)\n",
    "with open(calibration_path) as f:\n",
    "    print(f.read())"
   ]
  },
  {
   "cell_type": "markdown",
   "metadata": {},
   "source": [
    "# Workflow for azimuthal integration and caking\n",
    "First, we need to load the calibration from above, which contains information about our beamline setup like the orientation of the detector relative to the image. The calibration is stored in an `azimuthal integrator`."
   ]
  },
  {
   "cell_type": "code",
   "execution_count": null,
   "metadata": {
    "scrolled": true
   },
   "outputs": [],
   "source": [
    "ai = pyFAI.load(\"../calibration/DLS_CeO2_1200mm_pyFAI.poni\")\n",
    "print(\"\\nIntegrator: \\n\", ai)"
   ]
  },
  {
   "cell_type": "markdown",
   "metadata": {},
   "source": [
    "# Azimuthal integration of multiple images for `TOPAS`\n",
    "\n",
    "To perform an azimuthal integration we use the `integrate1d` function. \n",
    "\n",
    "There is also an `integrate2d` function, which is designed for caking of the data.\n",
    "\n",
    "* The number of points in 2-theta is defined by the user.\n",
    "* The azimuthal range runs from -180 to 180, or -pi to pi, rather than 0 to 360 as in DAWN, as explained in the section on [cake rotation](#cell_cake_rotation). An error will appear if using azimuth_range = (0,360).\n",
    "* An output .dat file can be saved, which contains a header of metadata. \n",
    "* The result is returned as a numpy array of 2-theta and intensity.\n",
    "\n",
    "An azimuthal integration can be performed like this. To iterate through multiple images we can create a loop, create an array for the data and then save it as a text file.\n",
    "\n",
    "[TODO] - review all available options and determine those needed for our Diamond and DESY data."
   ]
  },
  {
   "cell_type": "code",
   "execution_count": null,
   "metadata": {},
   "outputs": [],
   "source": [
    "# suppress warnings when TIFFs are read\n",
    "logging.getLogger(\"fabio.TiffIO\").setLevel(logging.ERROR)\n",
    "\n",
    "# user inputs\n",
    "number_of_points = 10000\n",
    "\n",
    "# get a list of the files\n",
    "image_list = sorted(pathlib.Path(\"../data/\").glob(\"pixium*\"))\n",
    "\n",
    "for image_path in tqdm(image_list):\n",
    "    # create an image array and integrate the data\n",
    "    with warnings.catch_warnings():\n",
    "        warnings.simplefilter(\"ignore\")\n",
    "        image = fabio.open(image_path)\n",
    "    pattern_image_array = image.data\n",
    "    result = ai.integrate1d(pattern_image_array,\n",
    "                        number_of_points,\n",
    "                        azimuth_range=(-180,180),\n",
    "                        unit=\"2th_deg\",\n",
    "                        correctSolidAngle=True,\n",
    "                        polarization_factor=0.99,\n",
    "                        method='full_csr')\n",
    "    \n",
    "    result_array = np.column_stack((result.radial, result.intensity))\n",
    "    \n",
    "    # write out the integrated data to a text file\n",
    "    np.savetxt(f\"../analysis/azimuthal_integration_{image_path.stem}.xy\", result_array)"
   ]
  },
  {
   "cell_type": "markdown",
   "metadata": {},
   "source": [
    "# Caking multiple images for `xrdfit`\n",
    "\n",
    "xrdfit has a simple data format with the first column being the bin edges of the two-theta angle and the subsequent\n",
    "columns being the binned intensity data, one column for each cake.\n",
    "\n",
    "Note that after the azimuthal integration the `np.flip` function is used to reverse the order of the columns of\n",
    "intensity data. This means that the cakes are ordered clockwise rather than anticlockwise."
   ]
  },
  {
   "cell_type": "code",
   "execution_count": null,
   "metadata": {
    "pycharm": {
     "name": "#%%\n"
    },
    "scrolled": true
   },
   "outputs": [],
   "source": [
    "# suppress warnings when TIFFs are read\n",
    "logging.getLogger(\"fabio.TiffIO\").setLevel(logging.ERROR)\n",
    "\n",
    "# user inputs\n",
    "number_of_points = 10000\n",
    "number_of_cakes = 36\n",
    "\n",
    "# rotate the detector by half a cake width so that the cardinal direction\n",
    "# is in the center of the first cake not the edge.\n",
    "first_cake_angle = 360 / number_of_cakes\n",
    "ai.rot3 = (first_cake_angle / 2) * (math.pi / 180) # convert rotation to radians\n",
    "\n",
    "# get a list of the files\n",
    "image_list = sorted(pathlib.Path(\"data/\").glob(\"pixium*\"))\n",
    "\n",
    "for image_path in tqdm(image_list):\n",
    "    # create empty array\n",
    "    caked_data = np.zeros((number_of_cakes + 1, number_of_points))\n",
    "    \n",
    "    # create an image array and cake the data\n",
    "    with warnings.catch_warnings():\n",
    "        warnings.simplefilter(\"ignore\")\n",
    "        image = fabio.open(image_path)\n",
    "    pattern_image_array = image.data\n",
    "    result2d = ai.integrate2d(pattern_image_array,\n",
    "                            number_of_points,\n",
    "                            number_of_cakes,\n",
    "                            unit=\"2th_deg\",\n",
    "                            polarization_factor=0.99,\n",
    "                            method='full_csr')\n",
    "    \n",
    "    # flip the intensity data to order cakes clockwise rather than anticlockwise\n",
    "    intensity = np.flip(result2d.intensity.T, axis=1)\n",
    "    \n",
    "    # reshape radial labels to 2D array so they can be attached to the intensity data.\n",
    "    radial = np.reshape(result2d.radial, (-1, 1))\n",
    "    \n",
    "    result_array = np.hstack((radial, intensity))\n",
    "    \n",
    "    # write out the caked data to a text file\n",
    "    np.savetxt(f\"analysis/{image_path.stem}.dat\", result_array)"
   ]
  },
  {
   "cell_type": "markdown",
   "metadata": {
    "pycharm": {
     "name": "#%% md\n"
    }
   },
   "source": [
    "This caked dataset is now saved in a format that we can use in [xrdfit](https://xrdfit.readthedocs.io/en/stable/) to\n",
    " analyse how the peak profiles change over time.\n",
    " \n",
    "*Note, it is important to check that our input for `number_of_points` can fully resolve the peak profiles, we can check this by plotting the final cake.*"
   ]
  },
  {
   "cell_type": "code",
   "execution_count": null,
   "metadata": {},
   "outputs": [],
   "source": [
    "plt.plot(result_array[:,0],result_array[:,2], marker = \".\")\n",
    "plt.xlim(3,4);"
   ]
  },
  {
   "cell_type": "markdown",
   "metadata": {},
   "source": [
    "## Caking multiple images for `MAUD`"
   ]
  },
  {
   "cell_type": "markdown",
   "metadata": {},
   "source": [
    "To cake data in preparation for analysis in [MAUD](http://maud.radiographema.eu) we need to change the output slightly to print out the intensity versus *pixel number*. PyFAI has the option of outputting intensity versus detector distance with the option *'unit = r_mm'*. We can then convert this value into a *pixel number*, by providing a pixel size in millimetres."
   ]
  },
  {
   "cell_type": "code",
   "execution_count": null,
   "metadata": {},
   "outputs": [],
   "source": [
    "# suppress warnings when TIFFs are read\n",
    "logging.getLogger(\"fabio.TiffIO\").setLevel(logging.ERROR)\n",
    "\n",
    "# user inputs\n",
    "number_of_points = 10000\n",
    "number_of_cakes = 72\n",
    "pixel_size = 0.296\n",
    "\n",
    "# rotate the detector by half a cake width so that the cardinal direction\n",
    "# is in the center of the first cake not the edge.\n",
    "first_cake_angle = 360 / number_of_cakes\n",
    "ai.rot3 = (first_cake_angle / 2) * (math.pi / 180) # convert rotation to radians\n",
    "\n",
    "# get a list of the files\n",
    "image_list = sorted(pathlib.Path(\"data/MAUD/\").glob(\"pixium*\"))\n",
    "\n",
    "for image_path in tqdm(image_list):\n",
    "    # create empty array\n",
    "    caked_data = np.zeros((number_of_cakes + 1, number_of_points))\n",
    "    \n",
    "    # create an image array and cake the data\n",
    "    with warnings.catch_warnings():\n",
    "        warnings.simplefilter(\"ignore\")\n",
    "        image = fabio.open(image_path)\n",
    "    pattern_image_array = image.data\n",
    "    result2d = ai.integrate2d(pattern_image_array,\n",
    "                            number_of_points,\n",
    "                            number_of_cakes,\n",
    "                            unit=\"r_mm\",\n",
    "                            polarization_factor=0.99,\n",
    "                            method='full_csr')\n",
    "    \n",
    "    # flip the intensity data to order cakes clockwise rather than anticlockwise\n",
    "    intensity = np.flip(result2d.intensity.T, axis=1)\n",
    "    \n",
    "    # reshape radial labels to 2D array so they can be attached to the intensity data.\n",
    "    radial_mm = np.reshape(result2d.radial, (-1, 1))\n",
    "    radial_pixel = radial_mm/pixel_size\n",
    "    \n",
    "    result_array = np.hstack((radial_pixel, intensity))\n",
    "    \n",
    "    # write out the caked data to a text file\n",
    "    np.savetxt(f\"analysis/MAUD/{image_path.stem}.dat\", result_array)"
   ]
  },
  {
   "cell_type": "code",
   "execution_count": null,
   "metadata": {},
   "outputs": [],
   "source": [
    "plt.plot(result_array[:,0],result_array[:,2], marker = \".\")\n",
    "plt.xlim(210,260);"
   ]
  }
 ],
 "metadata": {
  "kernelspec": {
   "display_name": "Python 3",
   "language": "python",
   "name": "python3"
  },
  "language_info": {
   "codemirror_mode": {
    "name": "ipython",
    "version": 3
   },
   "file_extension": ".py",
   "mimetype": "text/x-python",
   "name": "python",
   "nbconvert_exporter": "python",
   "pygments_lexer": "ipython3",
   "version": "3.6.8"
  }
 },
 "nbformat": 4,
 "nbformat_minor": 4
}
