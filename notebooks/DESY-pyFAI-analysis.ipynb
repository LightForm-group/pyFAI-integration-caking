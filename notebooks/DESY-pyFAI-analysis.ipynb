{
 "cells": [
  {
   "cell_type": "markdown",
   "metadata": {},
   "source": [
    "## Create a calibration using pyFAI"
   ]
  },
  {
   "cell_type": "code",
   "execution_count": null,
   "metadata": {},
   "outputs": [],
   "source": [
    "import matplotlib.pyplot as plt\n",
    "import numpy as np\n",
    "import pyFAI.gui.jupyter\n",
    "import pyFAI\n",
    "import fabio\n",
    "from pyFAI.test.utilstest import UtilsTest\n",
    "from pyFAI.calibrant import CALIBRANT_FACTORY\n",
    "from pyFAI.goniometer import SingleGeometry\n",
    "import pathlib\n",
    "from tqdm import tqdm\n",
    "import logging\n",
    "import math\n",
    "import warnings\n",
    "import os\n",
    "import pyFAI.azimuthalIntegrator\n",
    "from pyFAI.gui import jupyter\n",
    "figure_size = 10"
   ]
  },
  {
   "cell_type": "markdown",
   "metadata": {},
   "source": [
    "## Calibrate the detector"
   ]
  },
  {
   "cell_type": "code",
   "execution_count": null,
   "metadata": {},
   "outputs": [],
   "source": [
    "def calibrate(input_calibrant_path: str, beam_centre_x: float, beam_centre_y: float, sample_detector_distance: float, \n",
    "              wl: float, pixel_x: float, pixel_y: float, calibrant_type: str, num_calibration_rings: str, \n",
    "              output_calibration_path: str):\n",
    "    \n",
    "    frame = fabio.open(input_calibrant_path).data\n",
    "    dimensions = np.shape(frame)\n",
    "    print(f\"Size of the detector: \\n {dimensions} \\n\")\n",
    "    figure = plt.figure(figsize=(figure_size, figure_size))\n",
    "    ax = plt.gca()\n",
    "    pyFAI.gui.jupyter.display(frame, ax=ax)\n",
    "    \n",
    "    detector = pyFAI.detectors.Detector(pixel1=pixel_x, pixel2=pixel_y) # DESY 2021\n",
    "    print(f\"Definition of the detector: \\n {detector} \\n\")\n",
    "    calibrant = CALIBRANT_FACTORY(calibrant_type)\n",
    "    calibrant.wavelength = wl\n",
    "    print(f\"Definition of the calibrant: \\n {calibrant} \\n\")\n",
    "    \n",
    "    initial_geometry = pyFAI.geometry.Geometry(detector=detector, wavelength=wl)\n",
    "    initial_geometry.setFit2D(sample_detector_distance, beam_centre_x, beam_centre_y)\n",
    "    print(f\"Initial guessed detector geometry: \\n {initial_geometry} \\n\")\n",
    "    \n",
    "    # use the SingleGeometry object to perform automatic ring extraction and calibration\n",
    "    sg = SingleGeometry(\"demo\", frame, calibrant=calibrant, detector=detector, geometry=initial_geometry)\n",
    "    sg.extract_cp(max_rings=num_calibration_rings)\n",
    "    \n",
    "    # figure showing initial fit\n",
    "    figure = plt.figure(figsize=(figure_size, figure_size))\n",
    "    ax = plt.gca()\n",
    "    pyFAI.gui.jupyter.display(sg=sg, ax=ax)\n",
    "    \n",
    "    # refine geometry with fixed wavelength\n",
    "    sg.geometry_refinement.refine2(fix=[\"wavelength\"])\n",
    "    \n",
    "    # figure showing refined fit\n",
    "    figure = plt.figure(figsize=(figure_size, figure_size))\n",
    "    ax = plt.gca()\n",
    "    pyFAI.gui.jupyter.display(sg=sg, ax=ax)\n",
    "    \n",
    "    print(f\"Final calibration parameters... \\n\")\n",
    "    # delete the calibration if it already exists\n",
    "    # pathlib.Path(calibration_path).unlink(missing_ok=True) # only works for 3.8+\n",
    "    try:\n",
    "        pathlib.Path(output_calibration_path).unlink()\n",
    "    except FileNotFoundError:\n",
    "        pass\n",
    "\n",
    "    # save the geometry obtained\n",
    "    sg.geometry_refinement.save(output_calibration_path)\n",
    "    with open(output_calibration_path) as f:\n",
    "        print(f.read())\n",
    "        \n",
    "    print(f\"Calibration .poni file written to: {output_calibration_path}\")"
   ]
  },
  {
   "cell_type": "markdown",
   "metadata": {},
   "source": [
    "Define geometry components such as beam centre and detector distance."
   ]
  },
  {
   "cell_type": "code",
   "execution_count": null,
   "metadata": {},
   "outputs": [],
   "source": [
    "# Diamond 2017\n",
    "input_calibrant_file = \"../../../SXRD_raw_data/diamond_2017/rawdata_calibration/67098/pixi_00001.tif\"\n",
    "\n",
    "beam_centre_x = 712.136 # x-coordinate of the beam-center in pixels\n",
    "beam_centre_y = 727.864 # y-coordinate of the beam-center in pixels\n",
    "sample_detector_distance = 1194.046 # This is the distance in mm (unit used by Fit2d)\n",
    "wl = 1.393000e-11 # Beam wavelength\n",
    "\n",
    "pixel_x = 0.000296\n",
    "pixel_y = 0.000296\n",
    "\n",
    "calibrant_type = \"CeO2\"\n",
    "num_calibration_rings = 14\n",
    "\n",
    "output_calibration_path = \"../../../SXRD_analysis/diamond_2017/calibration-pyFAI/Diamond_2017_CeO2_1200mm_pyFAI.poni\""
   ]
  },
  {
   "cell_type": "code",
   "execution_count": null,
   "metadata": {},
   "outputs": [],
   "source": [
    "# DESY 2021\n",
    "input_calibrant_file = \"../../../SXRD_raw_data/desy_2021/diffraction_images/LaB6/LaB6_5mm_Dilatometer-00003.tif\"\n",
    "\n",
    "beam_centre_x = 1034.850 # x-coordinate of the beam-center in pixels\n",
    "beam_centre_y = 2048 - 1020.259 # y-coordinate of the beam-center in pixels\n",
    "sample_detector_distance = 1554.0496 # This is the distance in mm (unit used by Fit2d)\n",
    "wl = 1.240000e-11 # Beam wavelength\n",
    "\n",
    "pixel_x = 0.000200\n",
    "pixel_y = 0.000200\n",
    "\n",
    "calibrant_type = \"LaB6\"\n",
    "num_calibration_rings = 14\n",
    "\n",
    "output_calibration_path = \"../../../SXRD_analysis/desy_2021/calibration-pyFAI/DESY_2021_LaB6_1554mm_Dilatometer_pyFAI.poni\""
   ]
  },
  {
   "cell_type": "code",
   "execution_count": null,
   "metadata": {},
   "outputs": [],
   "source": [
    "# Diamond 2021\n",
    "input_calibrant_file = \"../../../SXRD_raw_data/diamond_2021/rawdata_tiffs/103852_tiffs/00001_00000.tiff\"\n",
    "\n",
    "beam_centre_x = 753.533 # x-coordinate of the beam-center in pixels\n",
    "beam_centre_y = 1679 - 998.707 # y-coordinate of the beam-center in pixels\n",
    "sample_detector_distance = 737.2873 # This is the distance in mm (unit used by Fit2d)\n",
    "wl = 1.242000e-11 # Beam wavelength\n",
    "\n",
    "pixel_x = 0.000172\n",
    "pixel_y = 0.000172\n",
    "\n",
    "calibrant_type = \"CeO2\"\n",
    "num_calibration_rings = 15\n",
    "\n",
    "output_calibration_path = \"../../../SXRD_analysis/diamond_2021/103852-calibration/calibration-pyFAI/calibration_103852_CeO2_737mm_pyFAI.poni\""
   ]
  },
  {
   "cell_type": "code",
   "execution_count": null,
   "metadata": {},
   "outputs": [],
   "source": [
    "# Diamond 2021\n",
    "input_calibrant_file = \"../../../SXRD_raw_data/diamond_2021/rawdata_tiffs/103853_tiffs/00001_00000.tiff\"\n",
    "\n",
    "beam_centre_x = 755.767 # x-coordinate of the beam-center in pixels\n",
    "beam_centre_y = 1679 - 998.124 # y-coordinate of the beam-center in pixels\n",
    "sample_detector_distance = 907.3740 # This is the distance in mm (unit used by Fit2d)\n",
    "wl = 1.242000e-11 # Beam wavelength\n",
    "\n",
    "pixel_x = 0.000172\n",
    "pixel_y = 0.000172\n",
    "\n",
    "calibrant_type = \"CeO2\"\n",
    "num_calibration_rings = 15\n",
    "\n",
    "output_calibration_path = \"../../../SXRD_analysis/diamond_2021/103853-calibration/calibration-pyFAI/calibration_103853_CeO2_907mm_pyFAI.poni\""
   ]
  },
  {
   "cell_type": "code",
   "execution_count": null,
   "metadata": {},
   "outputs": [],
   "source": [
    "calibrate(input_calibrant_file, beam_centre_x, beam_centre_y, sample_detector_distance, wl, pixel_x, pixel_y, \n",
    "          calibrant_type, num_calibration_rings, output_calibration_path)"
   ]
  },
  {
   "cell_type": "markdown",
   "metadata": {},
   "source": [
    "# Load calibration"
   ]
  },
  {
   "cell_type": "code",
   "execution_count": null,
   "metadata": {
    "scrolled": true
   },
   "outputs": [],
   "source": [
    "ai = pyFAI.load(output_calibration_path)\n",
    "print(\"\\nIntegrator: \\n\", ai)"
   ]
  },
  {
   "cell_type": "markdown",
   "metadata": {},
   "source": [
    "## Create mask"
   ]
  },
  {
   "cell_type": "code",
   "execution_count": null,
   "metadata": {},
   "outputs": [],
   "source": [
    "image = fabio.open(input_calibrant_file)\n",
    "pattern_image_array = image.data\n",
    "print(\"pattern_image_array:\", type(pattern_image_array), pattern_image_array.shape, pattern_image_array.dtype)\n",
    "jupyter.display(pattern_image_array)\n",
    "\n",
    "mask = pattern_image_array < 0\n",
    "print(\"mask:\", type(mask), mask.shape, mask.dtype)\n",
    "print(\"percent of bad pixels : \", 100*mask.sum()/(mask.shape[0]*mask.shape[1]))\n",
    "jupyter.display(mask)"
   ]
  },
  {
   "cell_type": "markdown",
   "metadata": {},
   "source": [
    "# Azimuthal integration of multiple images for `TOPAS`"
   ]
  },
  {
   "cell_type": "code",
   "execution_count": null,
   "metadata": {},
   "outputs": [],
   "source": [
    "def azimuthal_integration_iteration(input_path: str, input_experiment_list: list, \n",
    "                                    output_path: str, output_experiment_list: list,\n",
    "                                    ai, mask, number_of_points: int):\n",
    "\n",
    "    # suppress warnings when TIFFs are read\n",
    "    logging.getLogger(\"fabio.TiffIO\").setLevel(logging.ERROR)\n",
    "\n",
    "    for input_experiment, output_experiment in zip(input_experiment_list, output_experiment_list):\n",
    "\n",
    "        # get a list of the files\n",
    "        image_list = sorted(pathlib.Path(input_path + input_experiment).glob(\"Ti64*.tif\"))\n",
    "\n",
    "        for image_path in tqdm(image_list):\n",
    "            # create an image array and integrate the data\n",
    "            with warnings.catch_warnings():\n",
    "                warnings.simplefilter(\"ignore\")\n",
    "                image = fabio.open(image_path)\n",
    "            pattern_image_array = image.data\n",
    "            result = ai.integrate1d(pattern_image_array,\n",
    "                                number_of_points,\n",
    "                                azimuth_range=(-180,180),\n",
    "                                mask = mask,\n",
    "                                unit=\"2th_deg\",\n",
    "                                correctSolidAngle=True,\n",
    "                                polarization_factor=0.99,\n",
    "                                method='full_csr')\n",
    "\n",
    "            result_array = np.column_stack((result.radial, result.intensity))\n",
    "            \n",
    "            # check output folder exists\n",
    "            output_folder = f\"{output_path}{output_experiment}/azimuthal-integration/\"\n",
    "            CHECK_FOLDER = os.path.isdir(output_folder)\n",
    "\n",
    "            if not CHECK_FOLDER:\n",
    "                os.makedirs(output_folder)\n",
    "                print(\"Created folder : \", output_folder)\n",
    "            \n",
    "            # write out the integrated data to a text file\n",
    "            np.savetxt(f\"{output_folder}{image_path.stem}.xy\", result_array)\n",
    "            \n",
    "        print(f\"Saved .xy azimuthal integration files to folder : {output_folder}\")"
   ]
  },
  {
   "cell_type": "code",
   "execution_count": null,
   "metadata": {},
   "outputs": [],
   "source": [
    "input_path = \"../../../SXRD_raw_data/desy_2021/diffraction_images/\"\n",
    "input_experiment_list = [\"Def_01\",\"Def_03\",\"Def_04\",\"Def_05\",\"Def_06\",\"Def_07\",\"Def_08\",\"Def_09\",\"Def_10\",\"Heat_02\"]\n",
    "\n",
    "output_path = \"../../../SXRD_analysis/desy_2021/\"\n",
    "output_experiment_list = [\"experiment01-deformation\",\n",
    "                          \"experiment03-deformation\",\n",
    "                          \"experiment04-deformation\",\n",
    "                          \"experiment05-deformation\",\n",
    "                          \"experiment06-deformation\",\n",
    "                          \"experiment07-deformation\",\n",
    "                          \"experiment08-deformation\",\n",
    "                          \"experiment09-deformation\",\n",
    "                          \"experiment10-deformation\",\n",
    "                          \"experiment02-heating\"]\n",
    "\n",
    "number_of_points = 10000"
   ]
  },
  {
   "cell_type": "code",
   "execution_count": null,
   "metadata": {},
   "outputs": [],
   "source": [
    "azimuthal_integration_iteration(input_path, input_experiment_list, output_path, output_experiment_list, \n",
    "                                ai, mask, number_of_points)"
   ]
  },
  {
   "cell_type": "markdown",
   "metadata": {},
   "source": [
    "# Caking multiple images for `xrdfit`"
   ]
  },
  {
   "cell_type": "code",
   "execution_count": null,
   "metadata": {},
   "outputs": [],
   "source": [
    "def caking_iteration_xrdfit(input_path: str, input_experiment_list: list, \n",
    "                            output_path: str, output_experiment_list: list,\n",
    "                            ai, mask, number_of_points: int, number_of_cakes: int):\n",
    "    \n",
    "    # suppress warnings when TIFFs are read\n",
    "    logging.getLogger(\"fabio.TiffIO\").setLevel(logging.ERROR)\n",
    "\n",
    "    # rotate the detector by half a cake width so that the cardinal direction\n",
    "    # is in the center of the first cake not the edge.\n",
    "    first_cake_angle = 360 / number_of_cakes\n",
    "    ai.rot3 = (first_cake_angle / 2) * (math.pi / 180) # convert rotation to radians\n",
    "\n",
    "    for input_experiment, output_experiment in zip(input_experiment_list, output_experiment_list):\n",
    "        \n",
    "        # get a list of the files\n",
    "        image_list = sorted(pathlib.Path(input_path + input_experiment).glob(\"Ti64*.tif\"))\n",
    "\n",
    "        for image_path in tqdm(image_list):\n",
    "            # create empty array\n",
    "            caked_data = np.zeros((number_of_cakes + 1, number_of_points))\n",
    "\n",
    "            # create an image array and cake the data\n",
    "            with warnings.catch_warnings():\n",
    "                warnings.simplefilter(\"ignore\")\n",
    "                image = fabio.open(image_path)\n",
    "            pattern_image_array = image.data\n",
    "            result2d = ai.integrate2d(pattern_image_array,\n",
    "                                    number_of_points,\n",
    "                                    number_of_cakes,\n",
    "                                    mask = mask,\n",
    "                                    unit=\"2th_deg\",\n",
    "                                    polarization_factor=0.99,\n",
    "                                    method='full_csr')\n",
    "\n",
    "            # flip the intensity data to order cakes clockwise rather than anticlockwise\n",
    "            intensity = np.flip(result2d.intensity.T, axis=1)\n",
    "\n",
    "            # reshape radial labels to 2D array so they can be attached to the intensity data.\n",
    "            radial = np.reshape(result2d.radial, (-1, 1))\n",
    "\n",
    "            result_array = np.hstack((radial, intensity))\n",
    "\n",
    "            # check output folder exists\n",
    "            output_folder = f\"{output_path}{output_experiment}/caking/\"\n",
    "            CHECK_FOLDER = os.path.isdir(output_folder)\n",
    "\n",
    "            if not CHECK_FOLDER:\n",
    "                os.makedirs(output_folder)\n",
    "                print(\"Created folder : \", output_folder)\n",
    "\n",
    "            # write out the caked data to a text file\n",
    "            np.savetxt(f\"{output_folder}{image_path.stem}.dat\", result_array)\n",
    "\n",
    "        print(f\"Saved .dat caked data files to folder : {output_folder}\")"
   ]
  },
  {
   "cell_type": "code",
   "execution_count": null,
   "metadata": {},
   "outputs": [],
   "source": [
    "number_of_cakes = 72"
   ]
  },
  {
   "cell_type": "code",
   "execution_count": null,
   "metadata": {},
   "outputs": [],
   "source": [
    "caking_iteration_xrdfit(input_path, input_experiment_list, output_path, output_experiment_list, \n",
    "                        ai, mask, number_of_points, number_of_cakes)"
   ]
  },
  {
   "cell_type": "markdown",
   "metadata": {},
   "source": [
    "## Caking multiple images for `MAUD`"
   ]
  },
  {
   "cell_type": "code",
   "execution_count": null,
   "metadata": {},
   "outputs": [],
   "source": [
    "def caking_iteration_maud(input_path: str, input_experiment_list: list, \n",
    "                          output_path: str, output_experiment_list: list,\n",
    "                          ai, mask, pixel_size: float, number_of_points: int, number_of_cakes: int):\n",
    "    \n",
    "    # suppress warnings when TIFFs are read\n",
    "    logging.getLogger(\"fabio.TiffIO\").setLevel(logging.ERROR)\n",
    "\n",
    "    # rotate the detector by half a cake width so that the cardinal direction\n",
    "    # is in the center of the first cake not the edge.\n",
    "    first_cake_angle = 360 / number_of_cakes\n",
    "    ai.rot3 = (first_cake_angle / 2) * (math.pi / 180) # convert rotation to radians\n",
    "\n",
    "    for input_experiment, output_experiment in zip(input_experiment_list, output_experiment_list):\n",
    "    \n",
    "        # get a list of the files\n",
    "        # image_list = sorted(pathlib.Path(input_path + input_experiment).glob(\"Ti64*.tif\"))\n",
    "        # image_list = sorted(pathlib.Path(input_path + input_experiment).glob(\"1*.tiff\"))\n",
    "        image_list = sorted(pathlib.Path(input_path + input_experiment).glob(\"*.cbf\"))\n",
    "        \n",
    "        for image_path in tqdm(image_list):\n",
    "            # create empty array\n",
    "            caked_data = np.zeros((number_of_cakes + 1, number_of_points))\n",
    "\n",
    "            # create an image array and cake the data\n",
    "            with warnings.catch_warnings():\n",
    "                warnings.simplefilter(\"ignore\")\n",
    "                image = fabio.open(image_path)\n",
    "            pattern_image_array = image.data\n",
    "            result2d = ai.integrate2d(pattern_image_array,\n",
    "                                    number_of_points,\n",
    "                                    number_of_cakes,\n",
    "                                    mask = mask,\n",
    "                                    unit=\"r_mm\",\n",
    "                                    polarization_factor=0.99,\n",
    "                                    method='full_csr')\n",
    "\n",
    "            # flip the intensity data to order cakes clockwise rather than anticlockwise\n",
    "            intensity = np.flip(result2d.intensity.T, axis=1)\n",
    "\n",
    "            # reshape radial labels to 2D array so they can be attached to the intensity data.\n",
    "            radial_mm = np.reshape(result2d.radial, (-1, 1))\n",
    "            radial_pixel = radial_mm/pixel_size\n",
    "\n",
    "            result_array = np.hstack((radial_pixel, intensity))\n",
    "            \n",
    "            # check output folder exists\n",
    "            output_folder = f\"{output_path}{output_experiment}/texture-maud/\"\n",
    "            CHECK_FOLDER = os.path.isdir(output_folder)\n",
    "\n",
    "            if not CHECK_FOLDER:\n",
    "                os.makedirs(output_folder)\n",
    "                print(\"Created folder : \", output_folder)\n",
    "            \n",
    "            # write out the caked data to a text file\n",
    "            np.savetxt(f\"{output_folder}{image_path.stem}.dat\", result_array)\n",
    "        \n",
    "        print(f\"Saved .dat caked data files to folder : {output_folder}\")     "
   ]
  },
  {
   "cell_type": "code",
   "execution_count": null,
   "metadata": {},
   "outputs": [],
   "source": [
    "#pixel_size = 0.296 # Diamond 2017\n",
    "#pixel_size = 0.200 # DESY 2021\n",
    "pixel_size = 0.172 # Diamond 2021"
   ]
  },
  {
   "cell_type": "code",
   "execution_count": null,
   "metadata": {},
   "outputs": [],
   "source": [
    "input_path = \"../../../SXRD_analysis/diamond_2021/\"\n",
    "input_experiment_list = [\n",
    "                         \"103828/texture-cpf\",\n",
    "                         \"103829/texture-cpf\",\n",
    "                         \"103830/texture-cpf\",\n",
    "                         \"103831/texture-cpf\",\n",
    "                         \"103832/texture-cpf\",\n",
    "                         \"103833/texture-cpf\",\n",
    "                         \"103834/texture-cpf\",\n",
    "                         \"103835/texture-cpf\",\n",
    "                         \"103836/texture-cpf\",\n",
    "                         \"103837/texture-cpf\",\n",
    "                         \"103838/texture-cpf\",\n",
    "                         \"103839/texture-cpf\",\n",
    "#                          \"103840/texture-cpf\",\n",
    "#                          \"103841/texture-cpf\",\n",
    "#                          \"103842/texture-cpf\",\n",
    "#                          \"103843/texture-cpf\",\n",
    "#                          \"103844/texture-cpf\",\n",
    "#                          \"103845/texture-cpf\",\n",
    "#                          \"103846/texture-cpf\",\n",
    "#                          \"103847/texture-cpf\",\n",
    "#                          \"103848/texture-cpf\",\n",
    "#                          \"103849/texture-cpf\",\n",
    "#                          \"103850/texture-cpf\",\n",
    "#                          \"103851/texture-cpf\"\n",
    "                        ]\n",
    "\n",
    "output_path = input_path\n",
    "output_experiment_list = [\n",
    "                         \"103828\",\n",
    "                         \"103829\",\n",
    "                         \"103830\",\n",
    "                         \"103831\",\n",
    "                         \"103832\",\n",
    "                         \"103833\",\n",
    "                         \"103834\",\n",
    "                         \"103835\",\n",
    "                         \"103836\",\n",
    "                         \"103837\",\n",
    "                         \"103838\",\n",
    "                         \"103839\",\n",
    "#                          \"103840\",\n",
    "#                          \"103841\",\n",
    "#                          \"103842\",\n",
    "#                          \"103843\",\n",
    "#                          \"103844\",\n",
    "#                          \"103845\",\n",
    "#                          \"103846\",\n",
    "#                          \"103847\",\n",
    "#                          \"103848\",\n",
    "#                          \"103849\",\n",
    "#                          \"103850\",\n",
    "#                          \"103851\"\n",
    "                         ]\n",
    "\n",
    "number_of_points = 10000"
   ]
  },
  {
   "cell_type": "code",
   "execution_count": null,
   "metadata": {},
   "outputs": [],
   "source": [
    "input_path = \"../../../SXRD_analysis/diamond_2021/\"\n",
    "input_experiment_list = [\"103853-calibration\"]\n",
    "\n",
    "output_path = input_path\n",
    "output_experiment_list = [\"103853-calibration\"]\n",
    "\n",
    "number_of_points = 10000"
   ]
  },
  {
   "cell_type": "code",
   "execution_count": null,
   "metadata": {},
   "outputs": [],
   "source": [
    "input_path = \"../../../SXRD_raw_data/diamond_2021/rawdata/\"\n",
    "input_experiment_list = [\"103845-pilatus2M-files\"]\n",
    "\n",
    "output_path = \"../../../SXRD_analysis/diamond_2021/\"\n",
    "output_experiment_list = [\"103845\"]\n",
    "\n",
    "number_of_points = 10000"
   ]
  },
  {
   "cell_type": "code",
   "execution_count": null,
   "metadata": {},
   "outputs": [],
   "source": [
    "caking_iteration_maud(input_path, input_experiment_list, output_path, output_experiment_list, \n",
    "                      ai, mask, pixel_size, number_of_points, number_of_cakes)"
   ]
  },
  {
   "cell_type": "code",
   "execution_count": null,
   "metadata": {},
   "outputs": [],
   "source": []
  }
 ],
 "metadata": {
  "kernelspec": {
   "display_name": "Python 3 (ipykernel)",
   "language": "python",
   "name": "python3"
  },
  "language_info": {
   "codemirror_mode": {
    "name": "ipython",
    "version": 3
   },
   "file_extension": ".py",
   "mimetype": "text/x-python",
   "name": "python",
   "nbconvert_exporter": "python",
   "pygments_lexer": "ipython3",
   "version": "3.7.3"
  }
 },
 "nbformat": 4,
 "nbformat_minor": 4
}
