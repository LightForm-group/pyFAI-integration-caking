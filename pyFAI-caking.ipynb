{
 "cells": [
  {
   "cell_type": "markdown",
   "metadata": {},
   "source": [
    "This notebook provides an example workflow for caking xray diffraction patterns using pyFAI."
   ]
  },
  {
   "cell_type": "code",
   "execution_count": null,
   "metadata": {
    "scrolled": true
   },
   "outputs": [],
   "source": [
    "import pathlib\n",
    "import logging\n",
    "import math\n",
    "import warnings\n",
    "\n",
    "import pyFAI.azimuthalIntegrator\n",
    "from pyFAI.gui import jupyter\n",
    "import fabio\n",
    "import numpy as np"
   ]
  },
  {
   "cell_type": "markdown",
   "metadata": {},
   "source": [
    "# Visualisation of patterns\n",
    "## Calibration image\n",
    "The calibration image can be opened and read into an array which can be directly plotted."
   ]
  },
  {
   "cell_type": "code",
   "execution_count": null,
   "metadata": {
    "scrolled": true
   },
   "outputs": [],
   "source": [
    "image = fabio.open('calibration/DLS_CeO2_1200mm.tif')\n",
    "print(\"image:\", image)\n",
    "\n",
    "calibration_image_array = image.data\n",
    "print(\"calibration_image_array:\", type(calibration_image_array), calibration_image_array.shape, calibration_image_array.dtype)\n",
    "\n",
    "jupyter.display(calibration_image_array)"
   ]
  },
  {
   "cell_type": "markdown",
   "metadata": {},
   "source": [
    "## Pattern image\n",
    "The pattern file can be opened in the same way."
   ]
  },
  {
   "cell_type": "code",
   "execution_count": null,
   "metadata": {},
   "outputs": [],
   "source": [
    "image = fabio.open(\"data/pixium_03150.tif\")\n",
    "\n",
    "pattern_image_array = image.data\n",
    "print(\"pattern_image_array:\", type(pattern_image_array), pattern_image_array.shape, pattern_image_array.dtype)\n",
    "\n",
    "jupyter.display(pattern_image_array)"
   ]
  },
  {
   "cell_type": "markdown",
   "metadata": {},
   "source": [
    "Because the data is in NumPy arrays, we can do things like subtract the image. This could be useful for subtracting a dark image of the detector, for example."
   ]
  },
  {
   "cell_type": "code",
   "execution_count": null,
   "metadata": {},
   "outputs": [],
   "source": [
    "example_subtraction = pattern_image_array - calibration_image_array\n",
    "jupyter.display(example_subtraction)"
   ]
  },
  {
   "cell_type": "markdown",
   "metadata": {},
   "source": [
    "# Example workflows for caking\n",
    "First, we need to load the calibration, which contains information about our beamline setup like the orientation\n",
    "of the detector relative to the image. The calibration is stored in an `azimuthal integrator`.\n",
    "\n",
    "*Notes on creating a .poni calibration file using [Dioptas](http://www.clemensprescher.com/programs/dioptas) are found on the [LightForm Wiki](https://lightform-group.github.io/wiki/tutorials/sxrd-caking-dioptas)*"
   ]
  },
  {
   "cell_type": "code",
   "execution_count": null,
   "metadata": {
    "scrolled": true
   },
   "outputs": [],
   "source": [
    "ai = pyFAI.load(\"calibration/DLS_CeO2_1200mm.poni\")\n",
    "print(\"\\nIntegrator: \\n\", ai)"
   ]
  },
  {
   "cell_type": "markdown",
   "metadata": {},
   "source": [
    "## Azimuthal integration\n",
    "\n",
    "The `integrate2d` function of the azimuthal integrator object does a 2D azimuthal integration. This\n",
    "divides the images into sections as a function of azimuthal angle and 2-theta angle.\n",
    "\n",
    "[TODO] - review all available options and determine those needed for our Diamond and DESY data.\n",
    "\n",
    "* If provided, the `filename` parameter allows output of the data to a file in 'edf' format.\n",
    " This file has the data in ascii format with some metadata. This is not directly the data format that\n",
    " xrdfit reads and so we will output our own custom data file later.\n",
    "* The `method` function allows selection of different methods of averaging. This may be important,\n",
    "  particularly if you are averaging the data to a low number of bins. More details about the different\n",
    "  methods can be found in the pyFAI documentation.\n",
    "* The result is returned as an `Integrate2dResult` which contains NumPy arrays with the caked data."
   ]
  },
  {
   "cell_type": "code",
   "execution_count": null,
   "metadata": {
    "scrolled": true
   },
   "outputs": [],
   "source": [
    "result = ai.integrate2d(pattern_image_array,\n",
    "                        1000,\n",
    "                        36,\n",
    "                        azimuth_range=(-180,180),\n",
    "                        unit=\"2th_deg\",\n",
    "                        polarization_factor=0.99,\n",
    "                        method='full_csr',\n",
    "                        filename = \"analysis/integrated.edf\")\n",
    "print('The intensity data is stored in \"result.intensity\" and has the shape: ', np.shape(result.intensity))\n",
    "print('The radial bin edges are stored in \"result.radial\" with shape: ', np.shape(result.radial))\n",
    "print('The azimuthal bin edges are stored in \"result.azimuthal\" with shape: ', np.shape(result.azimuthal))"
   ]
  },
  {
   "cell_type": "markdown",
   "metadata": {},
   "source": [
    "If it is output, we can open the '.edf' file using FabIO."
   ]
  },
  {
   "cell_type": "code",
   "execution_count": null,
   "metadata": {
    "scrolled": true
   },
   "outputs": [],
   "source": [
    "cake = fabio.open(\"analysis/integrated.edf\")\n",
    "print(cake.header)\n",
    "print(\"cake:\", type(cake.data), cake.data.shape, cake.data.dtype)"
   ]
  },
  {
   "cell_type": "markdown",
   "metadata": {},
   "source": [
    "## Cake rotation"
   ]
  },
  {
   "cell_type": "markdown",
   "metadata": {},
   "source": [
    "More details about the orientation of the cakes is explained in the accompanying `pyFAI-sample-rotation` notebook using an example image.\n",
    "\n",
    "The relation between the cardinal directions perpendicular to the beamline and the azimuthal angle is:\n",
    "\n",
    "- WEST is -180${^\\circ}$ / +180${^\\circ}$ \n",
    "- SOUTH is -90${^\\circ}$\n",
    "- EAST is 0${^\\circ}$ / 360${^\\circ}$\n",
    "- NORTH is +90${^\\circ}$\n",
    "\n",
    "### Comparison to caking in DAWN\n",
    "pyFAI cakes the data anticlockwise which is the opposite direction to DAWN. pyFAI also starts caking the data from the `West` (-180${^\\circ}$) direction (compared to DAWN which starts caking from the East direction).\n",
    "\n",
    "This means data is caked from -180${^\\circ}$ to 0${^\\circ}$ to +180${^\\circ}$.\n",
    "\n",
    "And, as shown by the result below, the minimum cake angle in pyFAI is -180${^\\circ}$, and so caking will slice along the horizontal, meaning the cake is centred on -175${^\\circ}$ cake for 10${^\\circ}$ slices, rather than being centred on the horizontal."
   ]
  },
  {
   "cell_type": "code",
   "execution_count": null,
   "metadata": {},
   "outputs": [],
   "source": [
    "result.azimuthal"
   ]
  },
  {
   "cell_type": "markdown",
   "metadata": {},
   "source": [
    "For some of the materials we analyse, there is signal in the cardinal directions so it is desirable that the\n",
    "cakes are centred on the horizontal (and vertical) by applying a rotation to the detector."
   ]
  },
  {
   "cell_type": "code",
   "execution_count": null,
   "metadata": {},
   "outputs": [],
   "source": [
    "# rotate the detector so that the cardinal direction is in the center of the first cake.\n",
    "number_of_cakes = 36\n",
    "first_cake_angle = 360 / number_of_cakes\n",
    "ai.rot3 = (first_cake_angle / 2) * (math.pi / 180) # convert rotation to radians\n",
    "print(ai.rot3)"
   ]
  },
  {
   "cell_type": "markdown",
   "metadata": {},
   "source": [
    "# Caking multiple images\n",
    "\n",
    "To iterate through multiple images we can create a loop, create an array for the data and then save it as a text file.\n",
    "\n",
    "xrdfit has a simple data format with the first column being the bin edges of the two-theta angle and the subsequent\n",
    "columns being the binned intensity data, one column for each cake.\n",
    "\n",
    "Note that after the azimuthal integration the `np.flip` function is used to reverse the order of the columns of\n",
    "intensity data. This means that the cakes are ordered clockwise rather than anticlockwise."
   ]
  },
  {
   "cell_type": "code",
   "execution_count": null,
   "metadata": {
    "pycharm": {
     "name": "#%%\n"
    },
    "scrolled": true
   },
   "outputs": [],
   "source": [
    "# suppress warnings when TIFFs are read\n",
    "logging.getLogger(\"fabio.TiffIO\").setLevel(logging.ERROR)\n",
    "\n",
    "# user inputs\n",
    "number_of_points = 1000\n",
    "number_of_cakes = 36\n",
    "\n",
    "# rotate the detector by half a cake width so that the cardinal direction\n",
    "# is in the center of the first cake not the edge.\n",
    "first_cake_angle = 360 / number_of_cakes\n",
    "ai.rot3 = (first_cake_angle / 2) * (math.pi / 180) # convert rotation to radians\n",
    "\n",
    "# get a list of the files\n",
    "image_list = sorted(pathlib.Path(\"data/\").glob(\"pixium*\"))\n",
    "\n",
    "for image_path in image_list:\n",
    "    # create empty array\n",
    "    caked_data = np.zeros((number_of_cakes + 1, number_of_points))\n",
    "    \n",
    "    # create an image array and cake the data\n",
    "    with warnings.catch_warnings():\n",
    "        warnings.simplefilter(\"ignore\")\n",
    "        image = fabio.open(image_path)\n",
    "    pattern_image_array = image.data\n",
    "    result2d = ai.integrate2d(pattern_image_array,\n",
    "                            number_of_points,\n",
    "                            number_of_cakes,\n",
    "                            unit=\"2th_deg\",\n",
    "                            polarization_factor=0.99,\n",
    "                            method='full_csr')\n",
    "    \n",
    "    # flip the intensity data to order cakes clockwise rather than anticlockwise\n",
    "    intensity = np.flip(result2d.intensity.T, axis=1)\n",
    "    \n",
    "    # reshape radial labels to 2D array so they can be attached to the intensity data.\n",
    "    radial = np.reshape(result2d.radial, (-1, 1))\n",
    "    \n",
    "    result_array = np.hstack((radial, intensity))\n",
    "    \n",
    "    # write out the caked data to a text file\n",
    "    np.savetxt(f\"analysis/{image_path.stem}.dat\", result_array)"
   ]
  },
  {
   "cell_type": "markdown",
   "metadata": {
    "pycharm": {
     "name": "#%% md\n"
    }
   },
   "source": [
    "This caked dataset is now saved in a format that we can use in [xrdfit](https://xrdfit.readthedocs.io/en/stable/) to\n",
    " analyse how the peak profiles change over time."
   ]
  }
 ],
 "metadata": {
  "kernelspec": {
   "display_name": "Python 3",
   "language": "python",
   "name": "python3"
  },
  "language_info": {
   "codemirror_mode": {
    "name": "ipython",
    "version": 3
   },
   "file_extension": ".py",
   "mimetype": "text/x-python",
   "name": "python",
   "nbconvert_exporter": "python",
   "pygments_lexer": "ipython3",
   "version": "3.8.2"
  }
 },
 "nbformat": 4,
 "nbformat_minor": 2
}
