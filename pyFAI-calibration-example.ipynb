{
 "cells": [
  {
   "cell_type": "markdown",
   "metadata": {},
   "source": [
    "## Create a calibration using pyFAI"
   ]
  },
  {
   "cell_type": "code",
   "execution_count": null,
   "metadata": {},
   "outputs": [],
   "source": [
    "import matplotlib.pyplot as plt\n",
    "import pyFAI.gui.jupyter\n",
    "import pyFAI\n",
    "import fabio\n",
    "from pyFAI.test.utilstest import UtilsTest\n",
    "from pyFAI.calibrant import CALIBRANT_FACTORY\n",
    "from pyFAI.goniometer import SingleGeometry\n",
    "import pathlib\n",
    "from tqdm import tqdm\n",
    "import warnings\n",
    "figure_size = 10"
   ]
  },
  {
   "cell_type": "markdown",
   "metadata": {},
   "source": [
    "Load and show the calibration image"
   ]
  },
  {
   "cell_type": "code",
   "execution_count": null,
   "metadata": {},
   "outputs": [],
   "source": [
    "filename = \"example-calibration/DLS_CeO2_1200mm.tif\"\n",
    "frame = fabio.open(filename).data\n",
    "figure = plt.figure(figsize=(figure_size, figure_size))\n",
    "ax = plt.gca()\n",
    "pyFAI.gui.jupyter.display(frame, ax=ax)\n",
    "print(\"Note, this image appears mirrored from top to bottom, as the origin is at the bottom left.\")"
   ]
  },
  {
   "cell_type": "markdown",
   "metadata": {},
   "source": [
    "Define geometry components such as beam center and detector distance."
   ]
  },
  {
   "cell_type": "code",
   "execution_count": null,
   "metadata": {},
   "outputs": [],
   "source": [
    "x = 712.136 # x-coordinate of the beam-center in pixels\n",
    "y = 727.864 # y-coordinate of the beam-center in pixels\n",
    "d = 1194.046 # This is the distance in mm (unit used by Fit2d)\n",
    "wl = 1.393000e-11 # Beam wavelength"
   ]
  },
  {
   "cell_type": "markdown",
   "metadata": {},
   "source": [
    "Definition of the detector and of the calibrant"
   ]
  },
  {
   "cell_type": "code",
   "execution_count": null,
   "metadata": {},
   "outputs": [],
   "source": [
    "detector = pyFAI.detectors.Detector(pixel1=0.000296, pixel2=0.000296)\n",
    "print(detector)\n",
    "calibrant = CALIBRANT_FACTORY(\"CeO2\")\n",
    "calibrant.wavelength = wl\n",
    "calibrant"
   ]
  },
  {
   "cell_type": "markdown",
   "metadata": {},
   "source": [
    "Set the geometry of the detector to be the guessed geometry"
   ]
  },
  {
   "cell_type": "code",
   "execution_count": null,
   "metadata": {},
   "outputs": [],
   "source": [
    "initial_geometry = pyFAI.geometry.Geometry(detector=detector, wavelength=wl)\n",
    "initial_geometry.setFit2D(d, x, y)\n",
    "initial_geometry"
   ]
  },
  {
   "cell_type": "markdown",
   "metadata": {},
   "source": [
    "We now use the SingleGeometry object to perform automatic ring extraction and calibration"
   ]
  },
  {
   "cell_type": "code",
   "execution_count": null,
   "metadata": {},
   "outputs": [],
   "source": [
    "sg = SingleGeometry(\"demo\", frame, calibrant=calibrant, detector=detector, geometry=initial_geometry)\n",
    "sg.extract_cp(max_rings=16)"
   ]
  },
  {
   "cell_type": "markdown",
   "metadata": {},
   "source": [
    "This figure shows that the fitted control points and rings overlap pretty well. Refinement probably won't change much."
   ]
  },
  {
   "cell_type": "code",
   "execution_count": null,
   "metadata": {},
   "outputs": [],
   "source": [
    "figure = plt.figure(figsize=(figure_size, figure_size))\n",
    "ax = plt.gca()\n",
    "pyFAI.gui.jupyter.display(sg=sg, ax=ax)"
   ]
  },
  {
   "cell_type": "markdown",
   "metadata": {},
   "source": [
    "We refine the geometry, we leave the wavelength fixed as we know this, but allow the other parameters to change. This accounts for any slight inaccuracy in the detector set up."
   ]
  },
  {
   "cell_type": "code",
   "execution_count": null,
   "metadata": {
    "scrolled": true
   },
   "outputs": [],
   "source": [
    "sg.geometry_refinement.refine2(fix=[\"wavelength\"])"
   ]
  },
  {
   "cell_type": "markdown",
   "metadata": {},
   "source": [
    "This figure shows the result of the refinement."
   ]
  },
  {
   "cell_type": "code",
   "execution_count": null,
   "metadata": {},
   "outputs": [],
   "source": [
    "figure = plt.figure(figsize=(figure_size, figure_size))\n",
    "ax = plt.gca()\n",
    "pyFAI.gui.jupyter.display(sg=sg, ax=ax)"
   ]
  },
  {
   "cell_type": "markdown",
   "metadata": {},
   "source": [
    "We can now save the refinement to a file to be used later"
   ]
  },
  {
   "cell_type": "code",
   "execution_count": null,
   "metadata": {},
   "outputs": [],
   "source": [
    "# Delete the calibration if it already exists\n",
    "calibration_path = \"example-calibration/DLS_CeO2_1200mm_pyFAI.poni\"\n",
    "# pathlib.Path(calibration_path).unlink(missing_ok=True) # only works for 3.8+\n",
    "try:\n",
    "    pathlib.Path(calibration_path).unlink()\n",
    "except FileNotFoundError:\n",
    "    pass\n",
    "\n",
    "#Save the geometry obtained\n",
    "sg.geometry_refinement.save(calibration_path)\n",
    "with open(calibration_path) as f:\n",
    "    print(f.read())"
   ]
  },
  {
   "cell_type": "code",
   "execution_count": null,
   "metadata": {},
   "outputs": [],
   "source": []
  }
 ],
 "metadata": {
  "kernelspec": {
   "display_name": "Python 3 (ipykernel)",
   "language": "python",
   "name": "python3"
  },
  "language_info": {
   "codemirror_mode": {
    "name": "ipython",
    "version": 3
   },
   "file_extension": ".py",
   "mimetype": "text/x-python",
   "name": "python",
   "nbconvert_exporter": "python",
   "pygments_lexer": "ipython3",
   "version": "3.7.3"
  }
 },
 "nbformat": 4,
 "nbformat_minor": 4
}
