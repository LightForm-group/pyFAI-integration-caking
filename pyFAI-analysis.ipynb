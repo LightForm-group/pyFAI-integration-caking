{
 "cells": [
  {
   "cell_type": "code",
   "execution_count": null,
   "metadata": {
    "scrolled": true
   },
   "outputs": [],
   "source": [
    "import glob\n",
    "import os\n",
    "import re\n",
    "import pathlib\n",
    "import logging\n",
    "\n",
    "import pyFAI\n",
    "import pyFAI.azimuthalIntegrator\n",
    "from pyFAI.gui import jupyter\n",
    "import fabio\n",
    "import numpy as np\n",
    "import matplotlib.pyplot as plt"
   ]
  },
  {
   "cell_type": "markdown",
   "metadata": {},
   "source": [
    "[TODO] Setup calibration using pyFAI"
   ]
  },
  {
   "cell_type": "markdown",
   "metadata": {},
   "source": [
    "# Visualisation of patterns\n",
    "## Calibration image\n",
    "The calibration image can be opened and read into an array.\n",
    "\n",
    "The array can be directly plotted."
   ]
  },
  {
   "cell_type": "code",
   "execution_count": null,
   "metadata": {
    "scrolled": true
   },
   "outputs": [],
   "source": [
    "# write the calibration file to an image array\n",
    "image = fabio.open('calibration/DLS_CeO2_1200mm.tif')\n",
    "print(\"image:\", image)\n",
    "\n",
    "calibration_image_array = image.data\n",
    "print(\"calibration_image_array:\", type(calibration_image_array), calibration_image_array.shape, calibration_image_array.dtype)\n",
    "\n",
    "jupyter.display(calibration_image_array)"
   ]
  },
  {
   "cell_type": "markdown",
   "metadata": {},
   "source": [
    "## Pattern image\n",
    "The pattern file can be opened in the same way."
   ]
  },
  {
   "cell_type": "code",
   "execution_count": null,
   "metadata": {},
   "outputs": [],
   "source": [
    "# write the pattern file to an image array\n",
    "image = fabio.open(\"data/pixium_03150.tif\")\n",
    "\n",
    "pattern_image_array = image.data\n",
    "print(\"pattern_image_array:\", type(pattern_image_array), pattern_image_array.shape, pattern_image_array.dtype)\n",
    "\n",
    "jupyter.display(pattern_image_array)"
   ]
  },
  {
   "cell_type": "markdown",
   "metadata": {},
   "source": [
    "Because the data is in arrays, we can do things like subtract the image. This could be useful for subtracting a dark image of the detector, for example."
   ]
  },
  {
   "cell_type": "code",
   "execution_count": null,
   "metadata": {},
   "outputs": [],
   "source": [
    "example_subtraction = pattern_image_array - calibration_image_array\n",
    "jupyter.display(example_subtraction)"
   ]
  },
  {
   "cell_type": "markdown",
   "metadata": {},
   "source": [
    "# Example workflows for data processing\n",
    "First, we need to load the calibration, which contains information about our beamline setup, which we will use to perform an azimuthal integration or caking to the rest of our as-yet 'uncalibrated' data. To load an `azimuthal integrator` object or `ai` we use [pyFAI](https://pyfai.readthedocs.io/en/latest/).\n",
    "\n",
    "Notes on creating the calibration are found on the [LightForm Wiki](https://lightform-group.github.io/wiki/tutorials/sxrd-caking-dioptas)"
   ]
  },
  {
   "cell_type": "code",
   "execution_count": null,
   "metadata": {
    "scrolled": true
   },
   "outputs": [],
   "source": [
    "ai = pyFAI.load(\"calibration/DLS_CeO2_1200mm.poni\")\n",
    "print(\"\\nIntegrator: \\n\", ai)"
   ]
  },
  {
   "cell_type": "markdown",
   "metadata": {},
   "source": [
    "## Azimuthal integration\n",
    "\n",
    "To perform an azimuthal integration we use the `integrate1d` function. \n",
    "\n",
    "There is also an `integrate2d` function, which is designed for caking of the data.\n",
    "\n",
    "[TODO] - review all available options and determine those needed for our Diamond and DESY data.\n",
    "\n",
    "* The number of points in 2-theta is defined by the user.\n",
    "* The azimuthal range runs from -180 to 180, or -pi to pi, rather than 0 to 360 as in DAWN.\n",
    "* An output .dat file can be saved, which contains a header of metadata. \n",
    "* The result is returned as a numpy array of 2-theta and intensity.\n",
    "\n",
    "An azimuthal integration can be performed like this."
   ]
  },
  {
   "cell_type": "code",
   "execution_count": null,
   "metadata": {
    "scrolled": true
   },
   "outputs": [],
   "source": [
    "result = ai.integrate1d(pattern_image_array,\n",
    "                        npt=10000,\n",
    "                        azimuth_range=(-180,180),\n",
    "                        unit=\"2th_deg\",\n",
    "                        correctSolidAngle=True,\n",
    "                        polarization_factor=0.99,\n",
    "                        method='full_csr',\n",
    "                        filename=\"analysis/integrated.dat\")\n",
    "\n",
    "print('Size of result numpy array =', np.shape(result))"
   ]
  },
  {
   "cell_type": "markdown",
   "metadata": {},
   "source": [
    "## Caking data\n",
    "\n",
    "It is possible to cake the data using a loop to iterate over segments and integrate them using the `integrate1d`. "
   ]
  },
  {
   "cell_type": "code",
   "execution_count": null,
   "metadata": {},
   "outputs": [],
   "source": [
    "number_of_cakes = 10\n",
    "\n",
    "step = 360 / number_of_cakes\n",
    "\n",
    "data=[]\n",
    "\n",
    "for cake_number in range(number_of_cakes):\n",
    "    azimuth_low = -180 + step * cake_number\n",
    "    azimuth_high = azimuth_low + step\n",
    "    print(azimuth_low)\n",
    "    result = ai.integrate1d(pattern_image_array,\n",
    "                            npt=1000,\n",
    "                            azimuth_range=(azimuth_low,azimuth_high),\n",
    "                            unit=\"2th_deg\",\n",
    "                            polarization_factor=0.99,\n",
    "                            method='full_csr')\n",
    "    data.append(result) \n",
    "print(np.shape(data))"
   ]
  },
  {
   "cell_type": "markdown",
   "metadata": {},
   "source": [
    "However, caking is easier and faster using the `integrate2d` function (as shown [here](https://pyfai.readthedocs.io/en/latest/usage/tutorial/Introduction/introduction.html) and [here](https://pyfai.readthedocs.io/en/latest/usage/cookbook/integration_with_python.html)). \n",
    "\n",
    "Providing a file name saves the data to a file in '.edf' format. The result is returned as a `Integrate2dResult` which contains a Numpy array with the caked data.\n",
    "\n",
    "[TODO] - Not sure how to get a cake that covers different angles, such as 175 to -175 for example. \n",
    "\n",
    "^^ To integrate only a subset of the pattern use the `azimuth_range` parameter"
   ]
  },
  {
   "cell_type": "code",
   "execution_count": null,
   "metadata": {
    "scrolled": true
   },
   "outputs": [],
   "source": [
    "result = ai.integrate2d(pattern_image_array,\n",
    "                        1000,\n",
    "                        36,\n",
    "                        unit=\"2th_deg\",\n",
    "                        polarization_factor=0.99,\n",
    "                        method='full_csr',\n",
    "                        filename = \"analysis/integrated.edf\")\n",
    "print('The result is a class of 3 arrays, with shape: ', np.shape(result))\n",
    "print('The 1st array contains the integrated intensity for each cake, with shape: ', np.shape(result[0]))\n",
    "print('The 2nd array contains the two-theta values, with shape: ', np.shape(result[1]))\n",
    "print('The 3rd array contains the angle of the cakes, with shape: ', np.shape(result[2]))\n",
    "type(result)"
   ]
  },
  {
   "cell_type": "markdown",
   "metadata": {},
   "source": [
    "We can open the '.edf' file using FabIO."
   ]
  },
  {
   "cell_type": "code",
   "execution_count": null,
   "metadata": {},
   "outputs": [],
   "source": [
    "cake = fabio.open(\"analysis/integrated.edf\")\n",
    "print(cake.header)\n",
    "print(\"cake:\", type(cake.data), cake.data.shape, cake.data.dtype)"
   ]
  },
  {
   "cell_type": "markdown",
   "metadata": {},
   "source": [
    "# Caking multiple images\n",
    "\n",
    "To iterate through some images we can create a loop, create an array for the data and then save it as a text file.\n",
    "\n",
    "This caked dataset is now saved in a format that we can use in [xrdfit](https://xrdfit.readthedocs.io/en/stable/) to analyse how the single peak profiles change over time."
   ]
  },
  {
   "cell_type": "code",
   "execution_count": null,
   "metadata": {
    "scrolled": true
   },
   "outputs": [],
   "source": [
    "# Supress warnings when TIFFs are read\n",
    "logging.getLogger(\"fabio.TiffIO\").setLevel(logging.ERROR)\n",
    "\n",
    "# user inputs\n",
    "number_of_points = 10000\n",
    "number_of_cakes = 36\n",
    "\n",
    "# get a list of the files\n",
    "image_list = sorted(pathlib.Path(\"data/\").glob(\"pixium*\"))\n",
    "\n",
    "for image_path in image_list:\n",
    "    # create empty array\n",
    "    caked_data = np.zeros((number_of_cakes + 1, number_of_points))\n",
    "    \n",
    "    # create an image array and cake the data\n",
    "    with warnings.catch_warnings():\n",
    "        warnings.simplefilter(\"ignore\")\n",
    "        image = fabio.open(image_path)\n",
    "    pattern_image_array = image.data\n",
    "    result = ai.integrate2d(pattern_image_array,\n",
    "                            number_of_points,\n",
    "                            number_of_cakes,\n",
    "                            unit=\"2th_deg\",\n",
    "                            polarization_factor=0.99,\n",
    "                            method='full_csr')  \n",
    "    \n",
    "    # write the caked result to the array\n",
    "    for cake_number in range(number_of_cakes):\n",
    "        if cake_number == 0:\n",
    "            caked_data[0] = result[1]\n",
    "            caked_data[1] = result[0][0]\n",
    "        else:   \n",
    "            caked_data[cake_number + 1] = result[0][cake_number]\n",
    "            \n",
    "    # swap the rows/columns\n",
    "    caked_data.transpose()\n",
    "    \n",
    "    # write out the caked data to a text file\n",
    "    output_path = f\"analysis/{image_path.stem}.dat\"\n",
    "    np.savetxt(output_path, caked_data)"
   ]
  },
  {
   "cell_type": "code",
   "execution_count": null,
   "metadata": {},
   "outputs": [],
   "source": [
    "plt.plot(caked_data[0],caked_data[2], marker = \".\")\n",
    "plt.xlim(3,4);"
   ]
  }
 ],
 "metadata": {
  "kernelspec": {
   "display_name": "Python 3",
   "language": "python",
   "name": "python3"
  },
  "language_info": {
   "codemirror_mode": {
    "name": "ipython",
    "version": 3
   },
   "file_extension": ".py",
   "mimetype": "text/x-python",
   "name": "python",
   "nbconvert_exporter": "python",
   "pygments_lexer": "ipython3",
   "version": "3.8.2"
  }
 },
 "nbformat": 4,
 "nbformat_minor": 2
}
